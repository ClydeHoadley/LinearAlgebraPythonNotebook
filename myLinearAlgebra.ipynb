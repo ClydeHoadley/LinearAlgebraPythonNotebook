{
 "cells": [
  {
   "cell_type": "markdown",
   "metadata": {},
   "source": [
    "<b><span style=\"color:red\">To begin:</span></b><br>\n",
    "<b><i>Place your mouse pointer anywhere in the shaded area below then hold down the\n",
    "    \\< Shift \\> key and press \\< Enter \\></b></i>"
   ]
  },
  {
   "cell_type": "code",
   "execution_count": null,
   "metadata": {},
   "outputs": [],
   "source": [
    "#import IPython.display as ipd\n",
    "#ipd.Audio(filename='/Users/clydehoadley/Music/temp/cell001.mp3', rate=44100, autoplay=True)"
   ]
  },
  {
   "cell_type": "markdown",
   "metadata": {},
   "source": [
    "<font size=\"4\">NumPy is a Python library that is used for numerical and scientific computing and is well suited for linear algebra.  To use the NumPy library we must first **import** it into our program.  Library imports are usually placed at the top of the program.</font>\n",
    "\n",
    "<b><i>Place your mouse pointer anywhere in the shaded area below then hold down the\n",
    "    \\< Shift \\> key and press \\< Enter \\></b></i></br>\n",
    "    <span style=\"color:blue\"><i>However the cell below does not display any output.</i></span>"
   ]
  },
  {
   "cell_type": "code",
   "execution_count": null,
   "metadata": {},
   "outputs": [],
   "source": [
    "import numpy as np "
   ]
  },
  {
   "cell_type": "markdown",
   "metadata": {},
   "source": [
    "<font size=\"4\">NumPy gives us many different ways to create an array.  The easiest way is to simply pass the NumPy array() function a list of items.  The list can be statically entered as showen below or the list could be stored in a variable.  Later we'll learn how to create an array by reading data from a file.</font>\n",
    "\n",
    "<b><i>Place your mouse pointer anywhere in the shaded area below then hold down the\n",
    "    \\< Shift \\> key and press \\< Enter \\></i></b>\n",
    "    <span style=\"color:blue\">Observe the output beneth the cell that the python code produced.</span>\n",
    "    "
   ]
  },
  {
   "cell_type": "code",
   "execution_count": null,
   "metadata": {},
   "outputs": [],
   "source": [
    "A = np.array([1,2,3,4])\n",
    "print(\"Array 'A' is\",A,\"\\n\")\n",
    "print(\"The shape of array 'A' is\", A.shape, \"because it has\", A.size, \"elements in 1 row.\")\n",
    "print(\"Each element of the array is type\", A.dtype, \" This array only has\", A.ndim,\"dimention.\\n\")\n",
    "\n",
    "A = np.array([[1,2],[3,4]])\n",
    "print(\"But with a few minor changes the array becomes\\n\",A)\n",
    "print(\"The shape of this array is\", A.shape, \"because it has 2 rows and 2 columns.\")\n",
    "print(\"This array has a total of\", A.size, \"elements each of which are type\",A.dtype)\n",
    "print(\"This is a\", A.ndim,\"dimentional array.\")\n",
    "\n",
    "#ipd.Audio(filename='/Users/clydehoadley/Music/temp/cell001.mp3', rate=44100, autoplay=True)"
   ]
  },
  {
   "cell_type": "markdown",
   "metadata": {},
   "source": [
    "<font size=\"4\">The **zeros()** function creates a new array of given dimentions and fills it with zeros. The **zeros()** function accepts a tuple that specifies the dimensions of the array to create.  It can optionally accept a data type for the new array.</font>\n",
    "\n",
    "<b><i>Place your mouse pointer anywhere in the shaded area below then hold down the\n",
    "    \\< Shift \\> key and press \\< Enter \\></i></b>"
   ]
  },
  {
   "cell_type": "code",
   "execution_count": null,
   "metadata": {},
   "outputs": [],
   "source": [
    "a = np.zeros((3,1))\n",
    "print(a, \" A 3x1 vertical vector having shape\",a.shape,\"\\n\")\n",
    "a = np.zeros((1,3),dtype=np.int)\n",
    "print(a, \" A 1x3 horizontal integer vector having shape\",a.shape,\"\\n\")\n",
    "a = np.zeros((3,3))\n",
    "print(a, \" A 3x3 two dimentional square matrix having shape\",a.shape)"
   ]
  },
  {
   "cell_type": "markdown",
   "metadata": {},
   "source": [
    "<font size=\"4\">Given two or more existing arrays, you can stack them vertically using the **vstack()** function. For example, given two one-dimensional arrays, you can create a new **two-dimensional** array with two rows by vertically stacking one on top of the other.\n",
    "\n",
    "Or with two or more existing arrays, you can stack them horizontally using the **hstack()** function. For example, given two one-dimensional arrays, you can create a new **one-dimensional** array or one row with the columns of the first and second arrays concatenated.</font>"
   ]
  },
  {
   "cell_type": "code",
   "execution_count": null,
   "metadata": {},
   "outputs": [],
   "source": [
    "a = np.array([1, 2, 3]) # create two 1x3 arrays\n",
    "b = np.array([4, 5, 6])\n",
    "c = np.array([77, 88, 99])\n",
    "print(\"a = \", a, \"\\n\")\n",
    "print(\"b = \", b, \"\\n\")\n",
    "print(\"c = \", c, \"\\n\")\n",
    "print(np.vstack((b,a)), \"vstack 'b' on top of 'a' giving shape\", np.vstack((a,b)).shape,\"\\n\")\n",
    "print(np.hstack((c,a,b)), \"hstack (attach) 'b' onto the end of 'c'\")\n",
    "print(\"                             and 'a' onto the end of 'b' giving shape\", np.hstack((a,b)).shape)"
   ]
  },
  {
   "cell_type": "code",
   "execution_count": null,
   "metadata": {},
   "outputs": [],
   "source": [
    "# 3 additional NumPy functions for creating arrays.\n",
    "\n",
    "# Create a new array of your choice of shape and fill it with the value you specify.\n",
    "F = np.full((4, 2), 42)\n",
    "print(F, \"= F with shape\", F.shape, \"\\n\")\n",
    "F2 = np.full_like(F, 24)\n",
    "print(F2, \"= F2 with shape\", F2.shape, \"\\n\")\n",
    "\n",
    "# Create array filled with numbers starting with 5 goint up to 50 but count by 5's\n",
    "r = np.arange (5,50,5,dtype=int)\n",
    "print(\"r = \", r, \"\\n\")\n",
    "\n",
    "# Create an array filled with numbers starting with 3 going up to 222 but not more than\n",
    "# fifty elements (columns.)  Do not include the ending number\n",
    "l = np.linspace(3, 222, endpoint=False, dtype=int)\n",
    "print(\"l = \", l, \"\\n\")\n",
    "# Create an array filled with numbers starting with 2 going up to 333 but not more than\n",
    "# thirty elements (columns) and include the ending number. \n",
    "l2 = np.linspace(2, 333, num=30, endpoint=True, dtype=int)\n",
    "print(\"l2 = \", l2)"
   ]
  },
  {
   "cell_type": "code",
   "execution_count": null,
   "metadata": {},
   "outputs": [],
   "source": [
    "# 3 additional NumPy functions for combining arrays.\n",
    "\n",
    "# dstack Takes a sequence of arrays and stack them along the \n",
    "# third axis to make a single array.\n",
    "a = np.array([1, 2, 3, 22])\n",
    "b = np.array([4, 5, 6, 33])\n",
    "print(np.dstack((a,b)), \"= dstack\\n\" )\n",
    "\n",
    "# Join a sequence of arrays along an EXISTING axis.\n",
    "a = np.array([[11, 12], [13, 44]])\n",
    "b = np.array([[14, 15], [16, 55]])\n",
    "print(np.concatenate((a,b),axis=0),\"concatenate on axis=0 (vertical axis)\\n\")\n",
    "print(np.concatenate((a,b),axis=1),\"concatenate on axis=1 (horizontal axis)\\n\")\n",
    "\n",
    "# Join a sequence of arrays along a NEW axis.\n",
    "c = np.arange(1,8)\n",
    "d = np.arange(9,16)\n",
    "e = np.arange(17,24)\n",
    "print(\"c =\",c, \"\\n\")\n",
    "print(\"d =\",d, \"\\n\")\n",
    "print(\"e =\",e, \"\\n\")\n",
    "print(np.stack((c,d,e), axis=0), \"stack arrays along axis=0 (row wise)\\n\")\n",
    "print(np.stack((c,d,e), axis=1),\"stack arrays along axis=1 (column wise)\\n\")\n",
    "# print(np.stack((c,d,e), axis=2)) #axis 2 is out of bounds for array of dimension 2"
   ]
  },
  {
   "cell_type": "code",
   "execution_count": null,
   "metadata": {},
   "outputs": [],
   "source": [
    "from numpy import array\n",
    "# define array\n",
    "data = array([\n",
    "  [11, 22, 33],\n",
    "  [44, 55, 66],\n",
    "  [77, 88, 99]])\n",
    "\n",
    "split = 2\n",
    "# separate data\n",
    "training, testing = data[:split, :], data[split:,:] \n",
    "print(testing.shape, \"testing shape\\n\")\n",
    "print(testing, \"= testing\\n\\n\")\n",
    "print(training.shape,\"training shape before\\n\")\n",
    "print(training, \"= training before.\\n\")\n",
    "\n",
    "training=training.reshape((training.shape[0],training.shape[1],1))\n",
    "\n",
    "print(training.shape,\"training shape after\\n\")\n",
    "print(training,\"= training after.\\n\")\n"
   ]
  },
  {
   "cell_type": "code",
   "execution_count": 12,
   "metadata": {},
   "outputs": [
    {
     "name": "stdout",
     "output_type": "stream",
     "text": [
      "[[1 2 3]\n",
      " [4 5 6]] =A\n",
      "\n",
      "[7 8 9] =b\n",
      "\n",
      "[[ 8 10 12]\n",
      " [11 13 15]] =C\n",
      "\n"
     ]
    }
   ],
   "source": [
    "# broadcast scalar to one-dimensional array\n",
    "from numpy import array\n",
    "# define array\n",
    "A = array([[1, 2, 3],\n",
    "          [4, 5, 6]])\n",
    "print(A,\"=A\\n\")\n",
    "# define scalar\n",
    "b = array([7,8,9])\n",
    "print(b,\"=b\\n\")\n",
    "# broadcast \n",
    "c=A+b \n",
    "print(c,\"=C\\n\")"
   ]
  },
  {
   "cell_type": "code",
   "execution_count": 26,
   "metadata": {},
   "outputs": [
    {
     "name": "stdout",
     "output_type": "stream",
     "text": [
      "[[ 1  2 33]\n",
      " [ 4  5 44]] =A (2, 3) \n",
      "\n",
      "[7 8 9] =b (3,) \n",
      "\n",
      "[[7 8 9]\n",
      " [9 8 7]] =b (2, 3) \n",
      "\n",
      "[[7 8 9]\n",
      " [9 8 7]] =b (2, 3) \n",
      "\n",
      "[[7 8 9]\n",
      " [9 8 7]] =b (2, 3) \n",
      "\n",
      "[[ 8 10 42]\n",
      " [13 13 51]] =C (2, 3) \n",
      "\n"
     ]
    }
   ],
   "source": [
    "# Broadcasting is arithmatic performed on arrays of different sizes\n",
    "# define array\n",
    "A = array([[1, 2,33],\n",
    "          [4, 5,44]])\n",
    "print(A,\"=A\",A.shape,\"\\n\")\n",
    "# define scalar\n",
    "b = array([7,8,9])\n",
    "print(b,\"=b\",b.shape,\"\\n\")  #this shape can be added to array A\n",
    "\n",
    "b = array([[7,8,9],\n",
    "         [9,8,7]])\n",
    "print(b,\"=b\",b.shape,\"\\n\")   #this shape can be added to array A\n",
    "\n",
    "#b = array([[7,8],\n",
    "#         [9,8]])\n",
    "print(b,\"=b\",b.shape,\"\\n\")  # Error\n",
    "\n",
    "#b = array([7,8])\n",
    "print(b,\"=b\",b.shape,\"\\n\")  # Error\n",
    "# broadcast \n",
    "\n",
    "c=A+b \n",
    "print(c,\"=C\",c.shape,\"\\n\")"
   ]
  },
  {
   "cell_type": "code",
   "execution_count": 46,
   "metadata": {},
   "outputs": [
    {
     "name": "stdout",
     "output_type": "stream",
     "text": [
      "L1= 10.0\n",
      "L2= 5.477225575051661\n",
      "Linf= 4.0 \n",
      "\n",
      "\n",
      "L1= 10\n",
      "L2= 5.477225575051661\n",
      "m**2= 64.0 64\n",
      "Linf= 4\n"
     ]
    }
   ],
   "source": [
    "# Finding the Norm of a vector\n",
    "\n",
    "from numpy import array\n",
    "v=array([1,2,3,4])\n",
    "\n",
    "from numpy.linalg import norm\n",
    "print(\"L1=\",norm(v,1))\n",
    "print(\"L2=\",norm(v))\n",
    "\n",
    "from numpy import inf\n",
    "print(\"Linf=\",norm(v,inf),\"\\n\\n\")\n",
    "\n",
    "#compute manually \n",
    "import math as mt\n",
    "print(\"L1=\",abs(v[0]) + abs(v[1]) + abs(v[2]) + abs(v[3]))\n",
    "print(\"L2=\",mt.sqrt( (v[0]**2 + v[1]**2 + v[2]**2 + v[3]**2)))  # ** is raise to power, so **2 is the square\n",
    "m=-1\n",
    "for i in range(0,4) :\n",
    "    if abs(v[i]) > m : m=v[i]\n",
    "print(\"Linf=\",m)"
   ]
  },
  {
   "cell_type": "code",
   "execution_count": null,
   "metadata": {},
   "outputs": [],
   "source": []
  }
 ],
 "metadata": {
  "kernelspec": {
   "display_name": "Python 3",
   "language": "python",
   "name": "python3"
  },
  "language_info": {
   "codemirror_mode": {
    "name": "ipython",
    "version": 3
   },
   "file_extension": ".py",
   "mimetype": "text/x-python",
   "name": "python",
   "nbconvert_exporter": "python",
   "pygments_lexer": "ipython3",
   "version": "3.7.4"
  }
 },
 "nbformat": 4,
 "nbformat_minor": 2
}
