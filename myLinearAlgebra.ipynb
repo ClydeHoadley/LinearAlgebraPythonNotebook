{
 "cells": [
  {
   "cell_type": "markdown",
   "metadata": {},
   "source": [
    "#                   This is a work in progress\n",
    "## To begin:\n",
    "<span style=\"color:red\"><b><i>Place your mouse pointer anywhere in the shaded area below then hold down the \\< Shift \\> key and press \\< Enter \\></b></i></span>"
   ]
  },
  {
   "cell_type": "code",
   "execution_count": null,
   "metadata": {
    "scrolled": true
   },
   "outputs": [],
   "source": [
    "import IPython.display as ipd\n",
    "ipd.Audio(filename='resources/audio-01-01.ogg', rate=44100, autoplay=True)"
   ]
  },
  {
   "cell_type": "markdown",
   "metadata": {},
   "source": [
    "# Disclamer\n",
    "\n",
    "I am not a math expert.  I am teaching myself linear algebra and keeping a notebook of what I learn.  My focus is on the mathematics but I test and demonstrate the math using the **python** programming language.  Nothing here should be accepted as 100% correct.  I am a mathematics **amateur**.\n",
    "\n",
    "I'm using the following resources as my self-study guides:\n",
    "\n",
    "1.  Linear Algebra Step by Step, Kuldeep Singh, Oxford University Press. [Kindle Edition](https://www.amazon.com/gp/product/B07XGF2G87/ref=ppx_yo_dt_b_d_asin_title_o00?ie=UTF8&psc=1).\n",
    "2.  Basics of Linear Algebra for Machine Learning, [Jason Brownlee](https://machinelearningmastery.com/), self-published PDF.\n",
    "3.  [Khan Academy](https://www.khanacademy.org/math/linear-algebra) Math: Linear algebra.\n",
    "4.  [3Blue1Brown.com](https://www.3blue1brown.com/) Linear Algebra YouTube series.\n"
   ]
  },
  {
   "cell_type": "markdown",
   "metadata": {},
   "source": [
    "# Linear Algebra\n",
    "Linear algebra is the study of linear equations, vectors, matrices, and their transformations.  An equation is where two mathematical expressions are defined as being equal.\n",
    "\n",
    "$A = V/R$ &nbsp;  or &nbsp;  $x + 2y + z = 5$ &nbsp;  or &nbsp;  $x^2 − 1 = 0$ \n",
    "\n",
    "An equation is linear when none of its variables (unknowns) are raised to any power other than 1 or 0.\n",
    "\n",
    "$x + 2y = 5$ &nbsp;   or &nbsp; $x = 7$ &nbsp;  or &nbsp;  $2x + y + z + w = −5$ \n",
    "\n",
    "Remember any number or variable raised to the first power equals that number itself, and any number or variable raised to the zero power equals one.  We usually leave off the one when something is raised to the first power.\n",
    "\n",
    "$x^0 = 1$ &nbsp;  and &nbsp;  $y^1 = y$ &nbsp;  but &nbsp; $z^2 = z \\times z$\n",
    "\n",
    "$x + 2y + z = 5$  is a linear equation, but neither  $x^2 − 1 = 0$ \\quad or   $sin(x) − y + z = 3$ are linear.\n"
   ]
  },
  {
   "cell_type": "markdown",
   "metadata": {},
   "source": [
    "# Vectors and Scalars\n",
    "\n",
    "A **vector** is an element of a vector space.  A **vector space** (also called a linear space) is a collection of objects called vectors, which may be added together and multiplied (\"scaled\") by numbers, called scalars.  Generally a **scalar** is another name for \"real number.\"\n",
    "\n",
    "In physics a vector is represented with an arrow somewhere in space where the length of the arrow specifies the magnitude of the vector and the pointed end represents the direction of the vector.\n",
    "\n",
    "Many of us have seen vectors drawn on a graph that has an x and y axis where the base of the vector is located on the (0,0) of the x and y axis.  As we will soon learn a vector doesn't have to start at the graphs (0,0) origin.\n",
    "\n",
    "A **tuple** is just a fancy word for an ordered list of numbers; the ordering of the numbers is important.<br>\n",
    "$\\quad \\quad \\quad (5, 3, 8, 1, 12) \\neq (1, 3, 5, 8, 12)$\n",
    "                 \n",
    "A vector space is often denoted by a large bolded letter with a superscript attached.\n",
    "For example:<br> $\\mathbf{R^2}$ denotes a 2-dimensional real coordinate space. In other words the set of all possible real value 2-tuples.<br>\n",
    "$\\quad \\quad \\quad v = (x,y) \\quad or \\quad  v = \\left[\n",
    "\\begin{matrix}\n",
    "x\\\\\n",
    "y\n",
    "\\end{matrix}\n",
    "\\right]$\n",
    "\n",
    "$\\mathbf{R^3}$ denotes a 3-dimensional real coordinate space with the set of all possible real value 3-tuples.<br>\n",
    "$\\quad \\quad \\quad v = (x,y,z) \\quad or \\quad  v = \\left[\n",
    "\\begin{matrix}\n",
    "x\\\\\n",
    "y\\\\\n",
    "z\n",
    "\\end{matrix}\n",
    "\\right]$\n",
    "\n",
    "We can generalize this concept to an arbitrary number of dimensions, say $n$ dimensions. We refer to an **n-dimensional** vector as a vector in $\\mathbf{R^n}$ and write it as an n-tuple of numbers:\n",
    "\n",
    "$\\quad \\quad \\quad \\textbf{x} = \\mbox{$(x_1,x_2,x_3, \\ldots, x_n)$}$.\n",
    "\n",
    "Let's use python to make some of our own vectors.\n"
   ]
  },
  {
   "cell_type": "markdown",
   "metadata": {},
   "source": [
    "# Numpy and arrays\n",
    "\n",
    "Python doesn't really know anything about vectors or matrixes; python doesn't understand math book notation.  What the textbook calls vectors and matrixes python calls lists and **arrays**.  That's ok we can use arrays for vectors and matrixes.\n",
    "\n",
    "**NumPy** is a Python library that is used for numerical and scientific computing and is well suited for linear algebra.  NumPy gives us many different ways to create an array.  The easiest way is to pass the NumPy **array()** function a list of scalers (numbers).\n",
    "\n",
    "<b><i>Place your mouse pointer anywhere in the shaded cell below then hold down the\n",
    "    \\< Shift \\> key and press \\< Enter \\> to run the program.</i></b>\n",
    "    <span style=\"color:blue\">Observe the output beneth the cell that the program produced.</span>\n",
    "    "
   ]
  },
  {
   "cell_type": "code",
   "execution_count": null,
   "metadata": {},
   "outputs": [],
   "source": [
    "import numpy as np \n",
    "\n",
    "v = np.array([1,2,3,4])\n",
    "print(\"Vector 'v' is\",v,\"\\n\")\n",
    "print(\"The shape of vector (array) 'v' is\", v.shape, \"because it has\", v.size, \"scalers in 1 row.\")\n",
    "print(\"Each element of the array is type\", v.dtype, \" This array only has\", v.ndim,\"dimention.\\n\")\n",
    "\n",
    "v = np.array([[1,2],[3,4]])\n",
    "print(\"But with a few minor changes the vector becomes a matrix.\\n\",v)\n",
    "print(\"The shape of this matrix (array) is\", v.shape, \"because it has 2 rows and 2 columns.\")\n",
    "print(\"This array has a total of\", v.size, \"elements each of which are type\",v.dtype)\n",
    "print(\"This is a\", v.ndim,\"dimentional array.\")\n",
    "\n",
    "ipd.Audio(filename='resources/audio-01-02.ogg', rate=44100, autoplay=False)"
   ]
  },
  {
   "cell_type": "markdown",
   "metadata": {},
   "source": [
    "The **zeros()** function creates a new array of given dimentions and fills it with zeros. The **zeros()** function accepts a tuple that specifies the dimensions of the array to create.  It can optionally accept a data type for the new array.\n",
    "\n",
    "<b><i>Place your mouse pointer anywhere in the shaded area below then hold down the\n",
    "    \\< Shift \\> key and press \\< Enter \\></i></b>"
   ]
  },
  {
   "cell_type": "code",
   "execution_count": null,
   "metadata": {},
   "outputs": [],
   "source": [
    "a = np.zeros((3,1))\n",
    "print(a, \" A 3x1 vertical vector having shape\",a.shape,\"\\n\")\n",
    "a = np.zeros((1,3),dtype=np.int)\n",
    "print(a, \" A 1x3 horizontal integer vector having shape\",a.shape,\"\\n\")\n",
    "a = np.zeros((3,3))\n",
    "print(a, \" A 3x3 two dimentional square matrix having shape\",a.shape)"
   ]
  },
  {
   "cell_type": "markdown",
   "metadata": {},
   "source": [
    "Given two or more existing arrays, you can stack them vertically using the **vstack()** function. For example, given two one-dimensional arrays, you can create a new **two-dimensional** array with two rows by vertically stacking one on top of the other.\n",
    "\n",
    "Or with two or more existing arrays, you can stack them horizontally using the **hstack()** function. For example, given two one-dimensional arrays, you can create a new **one-dimensional** array or one row with the columns of the first and second arrays concatenated."
   ]
  },
  {
   "cell_type": "code",
   "execution_count": null,
   "metadata": {},
   "outputs": [],
   "source": [
    "a = np.array([1, 2, 3]) # create two 1x3 arrays\n",
    "b = np.array([4, 5, 6])\n",
    "c = np.array([77, 88, 99])\n",
    "print(\"a = \", a, \"\\n\")\n",
    "print(\"b = \", b, \"\\n\")\n",
    "print(\"c = \", c, \"\\n\")\n",
    "print(np.vstack((b,a)), \"vstack 'b' on top of 'a' giving shape\", np.vstack((a,b)).shape,\"\\n\")\n",
    "print(np.hstack((c,a,b)), \"hstack (attach) 'b' onto the end of 'c'\")\n",
    "print(\"                             and 'a' onto the end of 'b' giving shape\", np.hstack((a,b)).shape)"
   ]
  },
  {
   "cell_type": "code",
   "execution_count": null,
   "metadata": {},
   "outputs": [],
   "source": [
    "# 3 additional NumPy functions for creating arrays.\n",
    "\n",
    "# Create a new array of your choice of shape and fill it with the value you specify.\n",
    "F = np.full((4, 2), 42)\n",
    "print(F, \"= F with shape\", F.shape, \"\\n\")\n",
    "F2 = np.full_like(F, 24)\n",
    "print(F2, \"= F2 with shape\", F2.shape, \"\\n\")\n",
    "\n",
    "# Create array filled with numbers starting with 5 goint up to 50 but count by 5's\n",
    "r = np.arange (5,50,5,dtype=int)\n",
    "print(\"r = \", r, \"\\n\")\n",
    "\n",
    "# Create an array filled with numbers starting with 3 going up to 222 but not more than\n",
    "# fifty elements (columns.)  Do not include the ending number\n",
    "l = np.linspace(3, 222, endpoint=False, dtype=int)\n",
    "print(\"l = \", l, \"\\n\")\n",
    "# Create an array filled with numbers starting with 2 going up to 333 but not more than\n",
    "# thirty elements (columns) and include the ending number. \n",
    "l2 = np.linspace(2, 333, num=30, endpoint=True, dtype=int)\n",
    "print(\"l2 = \", l2)"
   ]
  },
  {
   "cell_type": "code",
   "execution_count": null,
   "metadata": {},
   "outputs": [],
   "source": [
    "# 3 additional NumPy functions for combining arrays.\n",
    "\n",
    "# dstack Takes a sequence of arrays and stack them along the \n",
    "# third axis to make a single array.\n",
    "a = np.array([1, 2, 3, 22])\n",
    "b = np.array([4, 5, 6, 33])\n",
    "print(np.dstack((a,b)), \"= dstack\\n\" )\n",
    "\n",
    "# Join a sequence of arrays along an EXISTING axis.\n",
    "a = np.array([[11, 12], [13, 44]])\n",
    "b = np.array([[14, 15], [16, 55]])\n",
    "print(np.concatenate((a,b),axis=0),\"concatenate on axis=0 (vertical axis)\\n\")\n",
    "print(np.concatenate((a,b),axis=1),\"concatenate on axis=1 (horizontal axis)\\n\")\n",
    "\n",
    "# Join a sequence of arrays along a NEW axis.\n",
    "c = np.arange(1,8)\n",
    "d = np.arange(9,16)\n",
    "e = np.arange(17,24)\n",
    "print(\"c =\",c, \"\\n\")\n",
    "print(\"d =\",d, \"\\n\")\n",
    "print(\"e =\",e, \"\\n\")\n",
    "print(np.stack((c,d,e), axis=0), \"stack arrays along axis=0 (row wise)\\n\")\n",
    "print(np.stack((c,d,e), axis=1),\"stack arrays along axis=1 (column wise)\\n\")\n",
    "# print(np.stack((c,d,e), axis=2)) #axis 2 is out of bounds for array of dimension 2"
   ]
  },
  {
   "cell_type": "code",
   "execution_count": null,
   "metadata": {},
   "outputs": [],
   "source": [
    "from numpy import array\n",
    "# define array\n",
    "data = array([\n",
    "  [11, 22, 33],\n",
    "  [44, 55, 66],\n",
    "  [77, 88, 99]])\n",
    "\n",
    "split = 2\n",
    "# separate data\n",
    "training, testing = data[:split, :], data[split:,:] \n",
    "print(testing.shape, \"testing shape\\n\")\n",
    "print(testing, \"= testing\\n\\n\")\n",
    "print(training.shape,\"training shape before\\n\")\n",
    "print(training, \"= training before.\\n\")\n",
    "\n",
    "training=training.reshape((training.shape[0],training.shape[1],1))\n",
    "\n",
    "print(training.shape,\"training shape after\\n\")\n",
    "print(training,\"= training after.\\n\")\n"
   ]
  },
  {
   "cell_type": "code",
   "execution_count": null,
   "metadata": {},
   "outputs": [],
   "source": [
    "# broadcast scalar to one-dimensional array\n",
    "from numpy import array\n",
    "# define array\n",
    "A = array([[1, 2, 3],\n",
    "          [4, 5, 6]])\n",
    "print(A,\"=A\\n\")\n",
    "# define scalar\n",
    "b = array([7,8,9])\n",
    "print(b,\"=b\\n\")\n",
    "# broadcast \n",
    "c=A+b \n",
    "print(c,\"=C\\n\")"
   ]
  },
  {
   "cell_type": "code",
   "execution_count": null,
   "metadata": {},
   "outputs": [],
   "source": [
    "# Broadcasting is arithmatic performed on arrays of different sizes\n",
    "# define array\n",
    "A = array([[1, 2,33],\n",
    "          [4, 5,44]])\n",
    "print(A,\"=A\",A.shape,\"\\n\")\n",
    "# define scalar\n",
    "b = array([7,8,9])\n",
    "print(b,\"=b\",b.shape,\"\\n\")  #this shape can be added to array A\n",
    "\n",
    "b = array([[7,8,9],\n",
    "         [9,8,7]])\n",
    "print(b,\"=b\",b.shape,\"\\n\")   #this shape can be added to array A\n",
    "\n",
    "#b = array([[7,8],\n",
    "#         [9,8]])\n",
    "print(b,\"=b\",b.shape,\"\\n\")  # Error\n",
    "\n",
    "#b = array([7,8])\n",
    "print(b,\"=b\",b.shape,\"\\n\")  # Error\n",
    "# broadcast \n",
    "\n",
    "c=A+b \n",
    "print(c,\"=C\",c.shape,\"\\n\")"
   ]
  },
  {
   "cell_type": "code",
   "execution_count": null,
   "metadata": {},
   "outputs": [],
   "source": [
    "# Finding the Norm of a vector\n",
    "\n",
    "from numpy import array\n",
    "v=array([1,2,3,4])\n",
    "\n",
    "from numpy.linalg import norm\n",
    "print(\"L1=\",norm(v,1))\n",
    "print(\"L2=\",norm(v))\n",
    "\n",
    "from numpy import inf\n",
    "print(\"Linf=\",norm(v,inf),\"\\n\\n\")\n",
    "\n",
    "#compute manually \n",
    "import math as mt\n",
    "print(\"L1=\",abs(v[0]) + abs(v[1]) + abs(v[2]) + abs(v[3]))\n",
    "print(\"L2=\",mt.sqrt( (v[0]**2 + v[1]**2 + v[2]**2 + v[3]**2)))  # ** is raise to power, so **2 is the square\n",
    "m=-1\n",
    "for i in range(0,4) :\n",
    "    if abs(v[i]) > m : m=v[i]\n",
    "print(\"Linf=\",m)"
   ]
  },
  {
   "cell_type": "code",
   "execution_count": null,
   "metadata": {},
   "outputs": [],
   "source": []
  }
 ],
 "metadata": {
  "kernelspec": {
   "display_name": "Python 3",
   "language": "python",
   "name": "python3"
  },
  "language_info": {
   "codemirror_mode": {
    "name": "ipython",
    "version": 3
   },
   "file_extension": ".py",
   "mimetype": "text/x-python",
   "name": "python",
   "nbconvert_exporter": "python",
   "pygments_lexer": "ipython3",
   "version": "3.7.3"
  }
 },
 "nbformat": 4,
 "nbformat_minor": 2
}
